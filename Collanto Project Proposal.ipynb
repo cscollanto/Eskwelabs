{
 "cells": [
  {
   "cell_type": "markdown",
   "metadata": {},
   "source": [
    "# Capstone Project "
   ]
  },
  {
   "cell_type": "markdown",
   "metadata": {},
   "source": [
    "**I.\tWhat is the question you hope to answer?**\n",
    "\n",
    "A.\tWhat perentage of the population has access to electricity?\n",
    "    1.\tWhat is the percent access to electricity over time?\n",
    "    2.\tHow are these percentages compared to South East Asian countries?\n",
    "B.\tWhat constitutes the Philippines' energy mix?\n",
    "    1.\tEnergy mix of the Philippines\n",
    "    2.\tWhat is the energy mix in other SEA countries\n",
    "    3.\tWhat is the percentage renewable energy\n",
    "C.\tHow does the Philippines Consume the electricity?\n",
    "    1.\tWhich sectors use the most energy?\n",
    "    2.\tWhat is the Philippines carbon footprint?\n",
    "D.\tHow is the budget for Infrastructure related to the percentage access to electricity?\n",
    "    1.\tComparison through the years\n",
    "    2.\tComparison to other SEA countries\n",
    "\n",
    "**II.\tWhat data are you planning to use to answer that question? What do you know about the data so far?**\n",
    "For questions A, B, and C\n",
    "1.\tThe World Development Indicators from the World Bank \n",
    "\n",
    "\"contain over a thousand annual indicators of economic development from hundreds of countries around the world.\"\n",
    "\n",
    "link: https://www.kaggle.com/worldbank/world-development-indicators\n",
    "\n",
    "2.\tThe Energy Statistics Database \n",
    "\n",
    "\"contains comprehensive energy statistics on the production, trade, conversion and final consumption of primary and secondary; conventional and non-conventional; and new and renewable sources of energy.\"\n",
    "\n",
    "link: https://www.kaggle.com/unitednations/international-energy-statistics\n",
    "\n",
    "3.\tDepartment of Energy\n",
    "\n",
    "The Department of Energy has over 15 years of statistics on the power industry in the Philippines. This would be the source for the allocation of consumption in the Philippines.\n",
    "link: https://www.doe.gov.ph/philippine-power-statistics\n",
    "For question D\n",
    "1.\tASEAN Data Science Explorer SDG 9 Industry, Innovation and Infrastructure\n",
    "\n",
    "The \"ASEAN Data Science Explorer\" is an international competition that allows undergraduate students to interpret given datasets on several Sustainable Development Goals and present it through a paper. This source will be used to compare the how the Energy industry in the Philippines fairs.\n",
    "\n",
    "**III.\tWhy did you choose this topic?**\n",
    "I chose this topic because I'd like to see the Philippines move towards renewable or sustainable energy. I also believe that everyone needs access to electricity to keep up in this modern world.\n"
   ]
  }
 ],
 "metadata": {
  "kernelspec": {
   "display_name": "Python 3",
   "language": "python",
   "name": "python3"
  },
  "language_info": {
   "codemirror_mode": {
    "name": "ipython",
    "version": 3
   },
   "file_extension": ".py",
   "mimetype": "text/x-python",
   "name": "python",
   "nbconvert_exporter": "python",
   "pygments_lexer": "ipython3",
   "version": "3.7.3"
  }
 },
 "nbformat": 4,
 "nbformat_minor": 2
}
